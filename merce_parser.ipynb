{
 "cells": [
  {
   "cell_type": "code",
   "execution_count": null,
   "metadata": {},
   "outputs": [],
   "source": [
    "import requests\n",
    "import pandas as pd\n",
    "import numpy as np\n",
    "import json\n",
    "from tqdm.notebook import tqdm\n",
    "import time\n",
    "from bs4 import BeautifulSoup\n",
    "import requests\n",
    "import bs4\n",
    "import os\n",
    "import aswan"
   ]
  },
  {
   "cell_type": "code",
   "execution_count": null,
   "metadata": {},
   "outputs": [],
   "source": [
    "link = \"https://merce.hu/wp-sitemap-posts-post-9.xml\"\n",
    "resp = requests.get(link)\n",
    "soup = BeautifulSoup(resp.content)"
   ]
  },
  {
   "cell_type": "code",
   "execution_count": null,
   "metadata": {},
   "outputs": [],
   "source": [
    "links = [item.get_text() for item in soup.find_all(\"loc\")]\n",
    "dates = [ i[i.find(\"2021\"):i.find(\"2021\")+10] for i in links ]"
   ]
  },
  {
   "cell_type": "code",
   "execution_count": null,
   "metadata": {},
   "outputs": [],
   "source": [
    "url_merce = (\n",
    "    pd.DataFrame(links, dates)\n",
    "    .reset_index()\n",
    "    .rename({\"index\" : \"date\", 0: \"url\"}, axis = 1)\n",
    "    .sort_values(by = [\"date\"])\n",
    ")\n",
    "url_merce[\"date\"] = pd.to_datetime(url_merce[\"date\"])\n",
    "url_merce.head()"
   ]
  },
  {
   "cell_type": "code",
   "execution_count": null,
   "metadata": {},
   "outputs": [],
   "source": [
    "url_merce.to_pickle(\"links/merce_cikk_linkek.pkl\")"
   ]
  },
  {
   "cell_type": "markdown",
   "metadata": {},
   "source": [
    "### Parser"
   ]
  },
  {
   "cell_type": "code",
   "execution_count": null,
   "metadata": {},
   "outputs": [],
   "source": [
    "link = \"https://merce.hu/2021/08/15/a-talibok-benyomultak-kabul-elovarosaba-boris-johnson-rendkivuli-parlamenti-ulest-hivott-ossze/\"\n",
    "resp = requests.get(link)\n",
    "soup = BeautifulSoup(resp.content)\n",
    "print(link)"
   ]
  },
  {
   "cell_type": "code",
   "execution_count": null,
   "metadata": {},
   "outputs": [],
   "source": [
    "def parse_soup(self, soup):\n",
    "\n",
    "    try:\n",
    "        title = soup.find(attrs={\"class\": \"entry-title\"}).get_text().replace(\"\\n\", \"\")\n",
    "    except:\n",
    "        title = \"\"\n",
    "\n",
    "    try:\n",
    "        text = \" \".join(\n",
    "            [\n",
    "                item.get_text().strip()\n",
    "                for item in soup.find(attrs={\"class\": \"entry-content\"}).find_all(\"p\")\n",
    "            ]\n",
    "        )\n",
    "    except:\n",
    "        text = \"\"\n",
    "    return {\n",
    "        \"title\": title,\n",
    "        \"text\": text,\n",
    "    }"
   ]
  },
  {
   "cell_type": "code",
   "execution_count": null,
   "metadata": {},
   "outputs": [],
   "source": [
    "parse_soup(\"a\",soup)"
   ]
  },
  {
   "cell_type": "code",
   "execution_count": null,
   "metadata": {},
   "outputs": [],
   "source": [
    "import ray"
   ]
  },
  {
   "cell_type": "code",
   "execution_count": null,
   "metadata": {},
   "outputs": [],
   "source": [
    "ray.shutdown()\n",
    "\n",
    "config = aswan.AswanConfig.default_from_dir(\"data_merce\")\n",
    "\n",
    "text_table = config.get_prod_table(\"text\")\n",
    "\n",
    "project = aswan.Project(config) \n",
    "\n",
    "@project.register_handler\n",
    "class TextHandler(aswan.UrlHandler):\n",
    "    def parse_soup(self, soup):\n",
    "\n",
    "        try:\n",
    "            title = soup.find(attrs={\"class\": \"entry-title\"}).get_text().replace(\"\\n\", \"\")\n",
    "        except:\n",
    "            title = \"\"\n",
    "    \n",
    "        try:\n",
    "            text = \" \".join(\n",
    "                [\n",
    "                    item.get_text().strip()\n",
    "                    for item in soup.find(attrs={\"class\": \"entry-content\"}).find_all(\"p\")\n",
    "                ]\n",
    "            )\n",
    "        except:\n",
    "            text = \"\"\n",
    "        return {\n",
    "            \"title\": title,\n",
    "            \"text\": text,\n",
    "        }\n",
    "\n",
    "project.register_t2_table(text_table)\n",
    "\n",
    "@project.register_t2_integrator\n",
    "class TextIntegrator(aswan.FlexibleDfParser):\n",
    "    handlers = [TextHandler]\n",
    "\n",
    "    def url_parser(self, url):\n",
    "        return {\"id\": url.split(\"/\")[-1]}\n",
    "\n",
    "    def get_t2_table(self):\n",
    "        return url_table\n",
    "\n",
    "def add_init_urls():\n",
    "    arcive_urls = url_merce.url.tolist().copy()\n",
    "\n",
    "    project.add_urls_to_handler(TextHandler, arcive_urls)"
   ]
  },
  {
   "cell_type": "code",
   "execution_count": null,
   "metadata": {},
   "outputs": [],
   "source": [
    "add_init_urls()"
   ]
  },
  {
   "cell_type": "code",
   "execution_count": null,
   "metadata": {},
   "outputs": [],
   "source": [
    "project.config.prod.batch_size = 20\n",
    "project.config.prod.min_queue_size = 200"
   ]
  },
  {
   "cell_type": "code",
   "execution_count": null,
   "metadata": {
    "scrolled": true
   },
   "outputs": [],
   "source": [
    "project.run()"
   ]
  },
  {
   "cell_type": "code",
   "execution_count": null,
   "metadata": {},
   "outputs": [],
   "source": [
    "y\n"
   ]
  },
  {
   "cell_type": "code",
   "execution_count": null,
   "metadata": {},
   "outputs": [],
   "source": []
  }
 ],
 "metadata": {
  "interpreter": {
   "hash": "7d01955457eaaf09029f6a3289bc10ea78fead2368d4f92e490381f22953eeb9"
  },
  "kernelspec": {
   "display_name": "Python 3",
   "language": "python",
   "name": "python3"
  },
  "language_info": {
   "codemirror_mode": {
    "name": "ipython",
    "version": 3
   },
   "file_extension": ".py",
   "mimetype": "text/x-python",
   "name": "python",
   "nbconvert_exporter": "python",
   "pygments_lexer": "ipython3",
   "version": "3.7.4"
  }
 },
 "nbformat": 4,
 "nbformat_minor": 2
}
